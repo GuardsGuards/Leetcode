{
 "cells": [
  {
   "cell_type": "markdown",
   "metadata": {},
   "source": [
    "# Minimum Time Visiting All Points\n",
    "\n",
    "Step 1:\n",
    "\n",
    "Start from last point (−1,0) (points.pop()).\n",
    "\n",
    "points = [[1,1],[3,4]].\n",
    "\n",
    "Step 2:\n",
    "\n",
    "Next pop → (3,4).\n",
    "\n",
    "Δx = |3 - (-1)| = 4, Δy = |4 - 0| = 4.\n",
    "\n",
    "Cost = max(4,4) = 4.\n",
    "\n",
    "res = 4.\n",
    "\n",
    "Update (x1,y1) = (3,4).\n",
    "\n",
    "Step 3:\n",
    "\n",
    "Next pop → (1,1).\n",
    "\n",
    "Δx = |1 - 3| = 2, Δy = |1 - 4| = 3.\n",
    "\n",
    "Cost = max(2,3) = 3.\n",
    "\n",
    "res = 7.\n",
    "\n",
    "Update (x1,y1) = (1,1).\n",
    "\n",
    "No points left → return 7."
   ]
  },
  {
   "cell_type": "code",
   "execution_count": 2,
   "metadata": {},
   "outputs": [
    {
     "name": "stdout",
     "output_type": "stream",
     "text": [
      "7\n"
     ]
    }
   ],
   "source": [
    "from typing import List\n",
    "\n",
    "class Solution:\n",
    "    def min_time(self, points: List[List[int]]) -> int:\n",
    "        # result accumulator for total time\n",
    "        res = 0\n",
    "\n",
    "        # take the *last* point as the starting reference\n",
    "        x1, y1 = points.pop()\n",
    "\n",
    "        # process until no points left\n",
    "        while points:\n",
    "            # take the next point (again from the end of the list)\n",
    "            x2, y2 = points.pop()\n",
    "\n",
    "            # movement cost = Chebyshev distance between points\n",
    "            # why? because in one second you can move either:\n",
    "            #   - 1 step horizontally, OR\n",
    "            #   - 1 step vertically, OR\n",
    "            #   - 1 step diagonally (which changes both x and y)\n",
    "            # so minimum steps = max(|Δx|, |Δy|)\n",
    "            res += max(abs(y2 - y1), abs(x2 - x1))\n",
    "\n",
    "            # update reference to current point\n",
    "            x1, y1 = x2, y2\n",
    "\n",
    "        # return total time\n",
    "        return res\n",
    "\n",
    "# Example\n",
    "points = [[1,1],[3,4],[-1,0]]\n",
    "print(Solution().min_time(points))\n"
   ]
  },
  {
   "cell_type": "code",
   "execution_count": 3,
   "metadata": {},
   "outputs": [],
   "source": [
    "class Solution:\n",
    "    def min_time(self, points: List[List[int]]) -> int:\n",
    "        res = 0\n",
    "        for (x1, y1), (x2, y2) in zip(points, points[1:]):\n",
    "            res += max(abs(x2 - x1), abs(y2 - y1))  # Chebyshev distance\n",
    "        return res\n"
   ]
  },
  {
   "cell_type": "code",
   "execution_count": 4,
   "metadata": {},
   "outputs": [],
   "source": [
    "class Solution:\n",
    "    def min_time(self, points: List[List[int]]) -> int:\n",
    "        res = 0\n",
    "        for i in range(1, len(points)):\n",
    "            x1, y1 = points[i - 1]\n",
    "            x2, y2 = points[i]\n",
    "            res += max(abs(x2 - x1), abs(y2 - y1))\n",
    "        return res\n"
   ]
  }
 ],
 "metadata": {
  "kernelspec": {
   "display_name": "base",
   "language": "python",
   "name": "python3"
  },
  "language_info": {
   "codemirror_mode": {
    "name": "ipython",
    "version": 3
   },
   "file_extension": ".py",
   "mimetype": "text/x-python",
   "name": "python",
   "nbconvert_exporter": "python",
   "pygments_lexer": "ipython3",
   "version": "3.11.7"
  }
 },
 "nbformat": 4,
 "nbformat_minor": 2
}
