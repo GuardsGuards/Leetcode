{
 "cells": [
  {
   "cell_type": "markdown",
   "metadata": {},
   "source": [
    "# How many numbers are smaller than\n",
    "\n",
    "Complexity\n",
    "Sorting: O(n log n)\n",
    "Building map + output: O(n)\n",
    "Space: O(n)"
   ]
  },
  {
   "cell_type": "code",
   "execution_count": 1,
   "metadata": {},
   "outputs": [
    {
     "name": "stdout",
     "output_type": "stream",
     "text": [
      "[4, 0, 1, 1, 3]\n"
     ]
    }
   ],
   "source": [
    "from typing import List\n",
    "\n",
    "def smaller_than0(nums: List[int]) -> List[int]:\n",
    "    temp = sorted(nums)\n",
    "    d = {}\n",
    "    for i, num in enumerate(temp):\n",
    "        if num not in d:       \n",
    "            d[num] = i\n",
    "    ret = []\n",
    "    for num in nums:\n",
    "        ret.append(d[num])\n",
    "    return ret\n",
    "\n",
    "# Example\n",
    "nums = [8,1,2,2,3]\n",
    "print(smaller_than0(nums))  # [4,0,1,1,3]\n"
   ]
  },
  {
   "cell_type": "code",
   "execution_count": 4,
   "metadata": {},
   "outputs": [
    {
     "name": "stdout",
     "output_type": "stream",
     "text": [
      "[4, 0, 1, 1, 3]\n"
     ]
    }
   ],
   "source": [
    "from typing import List\n",
    "\n",
    "def smaller_than1(nums: List[int]) -> List[int]:\n",
    "    # 1) Frequency of each value\n",
    "    cnt = [0] * 101\n",
    "    for x in nums:\n",
    "        cnt[x] += 1\n",
    "\n",
    "    # 2) Prefix sums: cnt[v] becomes # of elements <= v\n",
    "    for v in range(1, 101):\n",
    "        cnt[v] += cnt[v - 1]\n",
    "        '''cnt[v] = how many times value v appears in nums\n",
    "           cnt[i] += cnt[i-1] cumulates counts from the left:\n",
    "           cnt[i] means how many numbers are ≤ i in the original array.\n",
    "           We overwrite cnt[i] with itself plus everything before it\n",
    "        '''\n",
    "\n",
    "    # 3) For value x, # smaller = cnt[x - 1] (0 if x == 0)\n",
    "    res = []\n",
    "    for x in nums:\n",
    "        res.append(0 if x == 0 else cnt[x - 1])\n",
    "    return res\n",
    "    '''For any number x:\n",
    "        The number of elements strictly smaller than x = cnt[x-1].\n",
    "        In the final loop we return 0 if x==0 else cnt[x-1].\n",
    "    '''\n",
    "\n",
    "# Example\n",
    "nums = [8,1,2,2,3]\n",
    "print(smaller_than1(nums))  # [4,0,1,1,3]"
   ]
  },
  {
   "cell_type": "code",
   "execution_count": 5,
   "metadata": {},
   "outputs": [
    {
     "name": "stdout",
     "output_type": "stream",
     "text": [
      "[4, 0, 1, 1, 3]\n"
     ]
    }
   ],
   "source": [
    "from typing import List\n",
    "\n",
    "def smaller_than2(nums: List[int]) -> List[int]:\n",
    "    if not nums: \n",
    "        return []\n",
    "    mn, mx = min(nums), max(nums)\n",
    "    width = mx - mn + 1\n",
    "\n",
    "    # 1) Frequency array over [mn..mx]\n",
    "    cnt = [0] * width\n",
    "    for x in nums:\n",
    "        cnt[x - mn] += 1\n",
    "\n",
    "    # 2) Prefix sums\n",
    "    for i in range(1, width):\n",
    "        cnt[i] += cnt[i - 1]\n",
    "\n",
    "    # 3) Map each x to # strictly smaller\n",
    "    res = []\n",
    "    for x in nums:\n",
    "        idx = x - mn\n",
    "        res.append(0 if idx == 0 else cnt[idx - 1])\n",
    "    return res\n",
    "\n",
    "# Example\n",
    "nums = [8,1,2,2,3]\n",
    "print(smaller_than2(nums))  # [4,0,1,1,3]\n"
   ]
  }
 ],
 "metadata": {
  "kernelspec": {
   "display_name": "Python 3",
   "language": "python",
   "name": "python3"
  },
  "language_info": {
   "codemirror_mode": {
    "name": "ipython",
    "version": 3
   },
   "file_extension": ".py",
   "mimetype": "text/x-python",
   "name": "python",
   "nbconvert_exporter": "python",
   "pygments_lexer": "ipython3",
   "version": "3.13.1"
  }
 },
 "nbformat": 4,
 "nbformat_minor": 2
}
