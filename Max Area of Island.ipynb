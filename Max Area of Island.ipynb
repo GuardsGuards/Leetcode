{
 "cells": [
  {
   "cell_type": "markdown",
   "metadata": {},
   "source": [
    "# Max Area of Island"
   ]
  },
  {
   "cell_type": "code",
   "execution_count": 1,
   "metadata": {},
   "outputs": [
    {
     "data": {
      "text/plain": [
       "4"
      ]
     },
     "execution_count": 1,
     "metadata": {},
     "output_type": "execute_result"
    }
   ],
   "source": [
    "from typing import List\n",
    "\n",
    "class Solution:\n",
    "    def maxArea(self, grid: List[List[int]]) -> int:\n",
    "        # get grid dimensions\n",
    "        rows, cols = len(grid), len(grid[0])\n",
    "        # set to track visited land cells\n",
    "        visit = set()\n",
    "\n",
    "        # depth-first search: compute area of island starting at (r,c)\n",
    "        def dfs(r, c):\n",
    "            # base case: if out of bounds, water, or already visited → contributes 0\n",
    "            if (r < 0 or r == rows or c < 0 or c == cols or\n",
    "                grid[r][c] == 0 or (r, c) in visit):\n",
    "                return 0\n",
    "            \n",
    "            # mark current cell as visited\n",
    "            visit.add((r, c))\n",
    "            # area = 1 for this land cell + neighbors’ contributions\n",
    "            return (1 \n",
    "                    + dfs(r + 1, c)   # down\n",
    "                    + dfs(r - 1, c)   # up\n",
    "                    + dfs(r, c + 1)   # right\n",
    "                    + dfs(r, c - 1))  # left\n",
    "\n",
    "        # track the maximum island area seen\n",
    "        area = 0\n",
    "        for r in range(rows):\n",
    "            for c in range(cols):\n",
    "                # launch DFS from every cell\n",
    "                # dfs will instantly return 0 if not land or already visited\n",
    "                area = max(area, dfs(r, c))\n",
    "        return area\n",
    "\n",
    "grid = [\n",
    "  [0,1,0,0],\n",
    "  [1,1,0,0],\n",
    "  [0,1,0,1],\n",
    "  [0,0,0,1]\n",
    "]\n",
    "\n",
    "Solution().maxArea(grid)"
   ]
  }
 ],
 "metadata": {
  "kernelspec": {
   "display_name": "base",
   "language": "python",
   "name": "python3"
  },
  "language_info": {
   "codemirror_mode": {
    "name": "ipython",
    "version": 3
   },
   "file_extension": ".py",
   "mimetype": "text/x-python",
   "name": "python",
   "nbconvert_exporter": "python",
   "pygments_lexer": "ipython3",
   "version": "3.11.7"
  }
 },
 "nbformat": 4,
 "nbformat_minor": 2
}
