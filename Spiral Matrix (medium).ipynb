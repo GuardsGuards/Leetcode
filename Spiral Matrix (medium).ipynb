{
 "cells": [
  {
   "cell_type": "markdown",
   "metadata": {},
   "source": [
    "# Medium : Spiral Matrix\n",
    "\n",
    "[[1,2,3],[4,5,6],[7,8,9]]\n",
    "Top → [1,2,3]\n",
    "Right → 6,9\n",
    "Bottom (rev) → 8,7\n",
    "Left (up) → 4\n",
    "Next layer → top [5] → done → result [1,2,3,6,9,8,7,4,5].\n",
    "\n",
    "Complexity & caveats\n",
    "\n",
    "Visits each element once ⇒ O(m·n) element work.\n",
    "\n",
    "But pop(0) on Python lists is O(k) (shifts). For big matrices, prefer an index-boundary solution (no mutation)."
   ]
  },
  {
   "cell_type": "code",
   "execution_count": 2,
   "metadata": {},
   "outputs": [],
   "source": [
    "from typing import List\n",
    "\n",
    "class Solution:\n",
    "    def SpiralOrder(self, matrix: List[List[int]]) -> List[int]:\n",
    "        ret = []                            # Accumulator for spiral output\n",
    "\n",
    "        while matrix:                       # Loop while there are any rows left\n",
    "            ret += matrix.pop(0)            # 1) Take and remove the top row as-is\n",
    "\n",
    "            if matrix and matrix[0]:        # If rows remain AND there are still columns\n",
    "                for row in matrix:          # 2) Right edge: for each remaining row\n",
    "                    ret.append(row.pop())   #    pop the last element (rightmost), top→down\n",
    "\n",
    "            if matrix:                      # If rows still remain\n",
    "                ret += matrix.pop()[::-1]   # 3) Bottom row: pop last row, reverse it, append\n",
    "\n",
    "            if matrix and matrix[0]:        # If rows remain AND columns remain\n",
    "                for row in matrix[::-1]:    # 4) Left edge: walk bottom→top\n",
    "                    ret.append(row.pop(0))  #   pop first element (leftmost) from each row\n",
    "\n",
    "        return ret                          # Spiral order list\n"
   ]
  },
  {
   "cell_type": "markdown",
   "metadata": {},
   "source": [
    "pop() is a list method in Python that does two things at once:\n",
    "\n",
    "Removes an element from the list.\n",
    "\n",
    "Returns the removed element so you can use it."
   ]
  },
  {
   "cell_type": "code",
   "execution_count": 3,
   "metadata": {},
   "outputs": [
    {
     "name": "stdout",
     "output_type": "stream",
     "text": [
      "30\n",
      "[10, 20]\n"
     ]
    }
   ],
   "source": [
    "nums = [10, 20, 30]\n",
    "x = nums.pop()   # no index given → removes last element\n",
    "print(x)         # 30\n",
    "print(nums)      # [10, 20]\n"
   ]
  },
  {
   "cell_type": "code",
   "execution_count": 4,
   "metadata": {},
   "outputs": [
    {
     "name": "stdout",
     "output_type": "stream",
     "text": [
      "20\n",
      "[10, 30, 40]\n"
     ]
    }
   ],
   "source": [
    "nums = [10, 20, 30, 40]\n",
    "y = nums.pop(1)  # remove element at index 1\n",
    "print(y)         # 20\n",
    "print(nums)      # [10, 30, 40]\n"
   ]
  },
  {
   "cell_type": "markdown",
   "metadata": {},
   "source": [
    "# Spiral Order without POP\n",
    "\n",
    "Cost\n",
    "\n",
    "pop() from the end is O(1) → fast.\n",
    "\n",
    "pop(0) (from the front) is O(n) because Python lists are arrays, so every element after index 0 has to shift left.\n",
    "\n",
    "That’s why in the spiral-matrix solution we avoid pop(0) for performance."
   ]
  },
  {
   "cell_type": "code",
   "execution_count": 1,
   "metadata": {},
   "outputs": [],
   "source": [
    "from typing import List\n",
    "\n",
    "class Solution:\n",
    "    def spiralOrder(self, matrix: List[List[int]]) -> List[int]:\n",
    "        if not matrix or not matrix[0]:\n",
    "            return []\n",
    "\n",
    "        res = []\n",
    "        top, bottom = 0, len(matrix) - 1\n",
    "        left, right = 0, len(matrix[0]) - 1\n",
    "\n",
    "        while top <= bottom and left <= right:\n",
    "            # 1) top row: left -> right\n",
    "            for c in range(left, right + 1):\n",
    "                res.append(matrix[top][c])\n",
    "            top += 1\n",
    "\n",
    "            # 2) right col: top -> bottom\n",
    "            for r in range(top, bottom + 1):\n",
    "                res.append(matrix[r][right])\n",
    "            right -= 1\n",
    "\n",
    "            # 3) bottom row: right -> left (only if still in bounds)\n",
    "            if top <= bottom:\n",
    "                for c in range(right, left - 1, -1):\n",
    "                    res.append(matrix[bottom][c])\n",
    "                bottom -= 1\n",
    "\n",
    "            # 4) left col: bottom -> top (only if still in bounds)\n",
    "            if left <= right:\n",
    "                for r in range(bottom, top - 1, -1):\n",
    "                    res.append(matrix[r][left])\n",
    "                left += 1\n",
    "\n",
    "        return res\n",
    "    \n",
    "s = Solution()\n",
    "assert s.spiralOrder([[1,2,3],[4,5,6],[7,8,9]]) == [1,2,3,6,9,8,7,4,5]\n",
    "assert s.spiralOrder([[1,2,3,4],[5,6,7,8]]) == [1,2,3,4,8,7,6,5]\n",
    "assert s.spiralOrder([[1],[2],[3]]) == [1,2,3]\n",
    "\n"
   ]
  }
 ],
 "metadata": {
  "kernelspec": {
   "display_name": "Python 3",
   "language": "python",
   "name": "python3"
  },
  "language_info": {
   "codemirror_mode": {
    "name": "ipython",
    "version": 3
   },
   "file_extension": ".py",
   "mimetype": "text/x-python",
   "name": "python",
   "nbconvert_exporter": "python",
   "pygments_lexer": "ipython3",
   "version": "3.13.1"
  }
 },
 "nbformat": 4,
 "nbformat_minor": 2
}
