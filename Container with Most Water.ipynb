{
 "cells": [
  {
   "cell_type": "markdown",
   "metadata": {},
   "source": [
    "### Container with Most Water"
   ]
  },
  {
   "cell_type": "code",
   "execution_count": 4,
   "metadata": {},
   "outputs": [
    {
     "name": "stdout",
     "output_type": "stream",
     "text": [
      "49\n",
      "1\n"
     ]
    }
   ],
   "source": [
    "class Solution(object):\n",
    "    def maxArea(self, height):\n",
    "        left = 0\n",
    "        right = len(height) - 1\n",
    "        max_area = 0\n",
    "\n",
    "        while left < right:\n",
    "            width = right - left\n",
    "            min_height = min(height[left], height[right])\n",
    "            area = width * min_height\n",
    "            max_area = max(max_area, area)\n",
    "            if height[left] < height[right]:\n",
    "                left += 1\n",
    "            else:\n",
    "                right -= 1\n",
    "        return max_area\n",
    "\n",
    "s = Solution()\n",
    "print(s.maxArea([1,8,6,2,5,4,8,3,7]))  # Output: 49\n",
    "print(s.maxArea([1,1]))               # Output: 1\n",
    "\n"
   ]
  },
  {
   "cell_type": "markdown",
   "metadata": {},
   "source": [
    "### Full Application"
   ]
  },
  {
   "cell_type": "code",
   "execution_count": null,
   "metadata": {},
   "outputs": [],
   "source": [
    "import yfinance as yf\n",
    "import pandas as pd\n",
    "import numpy as np\n",
    "import matplotlib.pyplot as plt\n",
    "\n",
    "# Define a diverse set of tickers\n",
    "tickers = ['AAPL', 'TSLA', 'GOOG', 'NVDA']\n",
    "\n",
    "# Download adjusted close prices from 2022\n",
    "prices = yf.download(tickers, start=\"2022-01-01\", end=\"2023-01-01\")['Adj Close']\n",
    "returns = prices.pct_change().dropna()\n",
    "\n",
    "# Compute rolling Sharpe-like signal: mean / std\n",
    "sharpe_signal = returns.rolling(21).mean() / returns.rolling(21).std()\n",
    "sharpe_signal = sharpe_signal.dropna()\n",
    "\n",
    "def find_optimal_span_band(signal_array):\n",
    "    \"\"\"\n",
    "    Use two-pointer technique to find widest pair with high min confidence (like max water container).\n",
    "    \"\"\"\n",
    "    left = 0\n",
    "    right = len(signal_array) - 1\n",
    "    max_score = 0\n",
    "    best_pair = (0, 0)\n",
    "\n",
    "    while left < right:\n",
    "        width = right - left\n",
    "        height = min(signal_array[left], signal_array[right])\n",
    "        score = width * height\n",
    "\n",
    "        if score > max_score:\n",
    "            max_score = score\n",
    "            best_pair = (left, right)\n",
    "\n",
    "        if signal_array[left] < signal_array[right]:\n",
    "            left += 1\n",
    "        else:\n",
    "            right -= 1\n",
    "\n",
    "    return best_pair, max_score\n",
    "\n",
    "asset = 'AAPL'\n",
    "signal_series = sharpe_signal[asset].fillna(0).values\n",
    "(pair_start, pair_end), max_area = find_optimal_span_band(signal_series)\n",
    "\n",
    "# Plot\n",
    "dates = sharpe_signal.index\n",
    "plt.figure(figsize=(12, 6))\n",
    "plt.plot(dates, sharpe_signal[asset], label='21-Day Sharpe-like Signal')\n",
    "plt.axvline(dates[pair_start], color='green', linestyle='--', label='Start Anchor')\n",
    "plt.axvline(dates[pair_end], color='red', linestyle='--', label='End Anchor')\n",
    "plt.fill_between(dates[pair_start:pair_end+1],\n",
    "                 sharpe_signal[asset].iloc[pair_start:pair_end+1].min(),\n",
    "                 sharpe_signal[asset].iloc[pair_start:pair_end+1].min(),\n",
    "                 color='blue', alpha=0.3, label='Risk-Min Span')\n",
    "plt.title(f'Optimal Risk-Bounded Spread for {asset} | Score = {max_area:.2f}')\n",
    "plt.xlabel('Date')\n",
    "plt.ylabel('Sharpe Signal')\n",
    "plt.legend()\n",
    "plt.grid(True)\n",
    "plt.tight_layout()\n",
    "plt.show()\n",
    "\n",
    "\n",
    "\n",
    "\n"
   ]
  }
 ],
 "metadata": {
  "kernelspec": {
   "display_name": "base",
   "language": "python",
   "name": "python3"
  },
  "language_info": {
   "codemirror_mode": {
    "name": "ipython",
    "version": 3
   },
   "file_extension": ".py",
   "mimetype": "text/x-python",
   "name": "python",
   "nbconvert_exporter": "python",
   "pygments_lexer": "ipython3",
   "version": "3.11.7"
  }
 },
 "nbformat": 4,
 "nbformat_minor": 2
}
